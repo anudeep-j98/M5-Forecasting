{
 "cells": [
  {
   "cell_type": "code",
   "execution_count": 1,
   "metadata": {
    "colab": {
     "base_uri": "https://localhost:8080/"
    },
    "id": "tAb77yZ9fzMG",
    "outputId": "6bae573f-b145-4ec7-ac3b-119d56bab5de"
   },
   "outputs": [
    {
     "name": "stdout",
     "output_type": "stream",
     "text": [
      "Drive already mounted at /content/drive; to attempt to forcibly remount, call drive.mount(\"/content/drive\", force_remount=True).\n"
     ]
    }
   ],
   "source": [
    "from google.colab import drive\n",
    "drive.mount('/content/drive')"
   ]
  },
  {
   "cell_type": "code",
   "execution_count": 2,
   "metadata": {
    "colab": {
     "base_uri": "https://localhost:8080/"
    },
    "id": "U6pTBMqqfmU_",
    "outputId": "2a596511-d027-473a-e6f5-dcba82a80aca"
   },
   "outputs": [
    {
     "name": "stderr",
     "output_type": "stream",
     "text": [
      "/usr/local/lib/python3.7/dist-packages/statsmodels/tools/_testing.py:19: FutureWarning: pandas.util.testing is deprecated. Use the functions in the public API at pandas.testing instead.\n",
      "  import pandas.util.testing as tm\n"
     ]
    }
   ],
   "source": [
    "import pandas as pd\n",
    "import numpy as np\n",
    "from statsmodels.stats.outliers_influence import variance_inflation_factor"
   ]
  },
  {
   "cell_type": "markdown",
   "metadata": {
    "id": "TAjOWc7BfsGu"
   },
   "source": [
    "<h1> Feature Extraction </h1>"
   ]
  },
  {
   "cell_type": "markdown",
   "metadata": {
    "id": "ZzQXStkrfrfc"
   },
   "source": [
    "<p>\n",
    "<b>lags</b> -> [28,35,42,49,56,63,70,77] (From ACF and PACF plots) <br>\n",
    "<b>rolling</b> ->lags = [7,14,28,49] with shift 28<br>\n",
    "<b>weekday/weekend</b> -> 0/1<br>\n",
    "<b>quarter of year</b> -> [1,2,3,4]<br>\n",
    "<b>id wise sale mean and standard deviation</b><br>\n",
    "<b>id wise price mean and standard deviation</b><br>\n",
    "<b>expanding sold mean with shift 28</b><br> \n",
    "</p>"
   ]
  },
  {
   "cell_type": "code",
   "execution_count": 3,
   "metadata": {
    "id": "tYOpDomkfmSm"
   },
   "outputs": [],
   "source": [
    "d = {'sale'           :  np.int16,      \n",
    "     'snap_CA'        :  np.int8,   \n",
    "     'snap_TX'        :  np.int8,   \n",
    "     'snap_WI'        :  np.int8,   \n",
    "     'sell_price'     :  np.float32,\n",
    "     'wm_yr_wk'       :  np.int16,\n",
    "     'year'           : np.int8,\n",
    "     'event_name_1'   :  np.int8,   \n",
    "     'event_type_1'   :  np.int8,   \n",
    "     'event_name_2'   :  np.int8,   \n",
    "     'event_type_2'   :  np.int8,\n",
    "     'd'              : np.int16,\n",
    "     'day'            : np.int8,\n",
    "     'quarter'        : np.int8\n",
    "    }"
   ]
  },
  {
   "cell_type": "code",
   "execution_count": 4,
   "metadata": {
    "id": "SG1tJz6lfmPw"
   },
   "outputs": [],
   "source": [
    "df = pd.read_csv('/content/drive/MyDrive/CS/merged_df.csv',dtype=d)"
   ]
  },
  {
   "cell_type": "code",
   "execution_count": 5,
   "metadata": {
    "id": "AxSp6NEXfmNU"
   },
   "outputs": [],
   "source": [
    "from sklearn.preprocessing import LabelEncoder\n",
    "#label encoding all categorical value\n",
    "le = {}\n",
    "for ele in df.columns:\n",
    "    if df[ele].dtype.name == 'object':\n",
    "        labelencoder=LabelEncoder()\n",
    "        df[ele] = df[ele].astype(str)\n",
    "        df[ele] = labelencoder.fit_transform(df[ele]).astype(np.int16)\n",
    "        le[ele] = dict(zip(labelencoder.classes_, labelencoder.transform(labelencoder.classes_)))"
   ]
  },
  {
   "cell_type": "code",
   "execution_count": 24,
   "metadata": {
    "id": "KIJph9NAfmK6"
   },
   "outputs": [],
   "source": [
    "import pickle\n",
    "with open('/content/drive/MyDrive/CS/label_encoding.pickle','wb') as f: #saving label encoded into a pickle file as dictionary\n",
    "    pickle.dump(le,f)"
   ]
  },
  {
   "cell_type": "code",
   "execution_count": 7,
   "metadata": {
    "id": "nkcGpy5_fmIR"
   },
   "outputs": [],
   "source": [
    "groupby_df = df.groupby(['id'],as_index=False)"
   ]
  },
  {
   "cell_type": "code",
   "execution_count": 8,
   "metadata": {
    "id": "vXJYbF8YfmFs"
   },
   "outputs": [],
   "source": [
    "#we don;t have lags from 0 to 28 for d_1941 to d_1969 so using lags from 28\n",
    "lags = [28,35,42,49,56,63,70,77]  #from autocorrelation plot\n",
    "#https://stackoverflow.com/questions/37231844/pandas-creating-a-lagged-column-with-grouped-data\n",
    "for ele in lags:\n",
    "    df['lag_'+str(ele)] = groupby_df['sale'].shift(ele) #https://stackoverflow.com/questions/33907537/groupby-and-lag-all-columns-of-a-dataframe"
   ]
  },
  {
   "cell_type": "code",
   "execution_count": 9,
   "metadata": {
    "id": "6-JIT-kBfmDJ"
   },
   "outputs": [],
   "source": [
    "lags = [7,14,28,49]  \n",
    "for ele in lags:\n",
    "    df['roll_mean_'+str(ele)] = groupby_df['sale'].transform(lambda x: x.shift(28).rolling(ele).mean()) #https://stackoverflow.com/questions/53339021/python-pandas-calculate-moving-average-within-group\n",
    "    df['roll_std_'+str(ele)] = groupby_df['sale'].transform(lambda x: x.shift(28).rolling(ele).std())"
   ]
  },
  {
   "cell_type": "code",
   "execution_count": 10,
   "metadata": {
    "id": "3r8PlOmofmAk"
   },
   "outputs": [],
   "source": [
    "df['expanding_mean_item']=groupby_df['sale'].transform(lambda x: x.shift(28).expanding().mean()) #expanding mean\n",
    "\n",
    "#mean and std of id sold\n",
    "df['mean_id_sold'] = groupby_df['sale'].transform('mean').astype(np.float16)\n",
    "df['std_id_sold'] = groupby_df['sale'].transform('std').astype(np.float16)\n",
    "\n",
    "#mean and std of price\n",
    "df['mean_id_price'] = groupby_df['sell_price'].transform('mean').astype(np.float16)\n",
    "df['std_id_price'] = groupby_df['sell_price'].transform('std').astype(np.float16)"
   ]
  },
  {
   "cell_type": "code",
   "execution_count": 11,
   "metadata": {
    "id": "qu36yqLpfkBV"
   },
   "outputs": [],
   "source": [
    "del groupby_df"
   ]
  },
  {
   "cell_type": "code",
   "execution_count": 12,
   "metadata": {
    "id": "ufPOHUQMfj_J"
   },
   "outputs": [],
   "source": [
    "df.dropna(how='any',inplace=True) #removing NaN values produced due to lags"
   ]
  },
  {
   "cell_type": "code",
   "execution_count": 13,
   "metadata": {
    "id": "WINKM2Ucfj82"
   },
   "outputs": [],
   "source": [
    "df.drop(columns = ['wm_yr_wk'],inplace=True)\n",
    "#Downcasting for space optimization\n",
    "df['sale'] = df['sale'].astype(np.int16)\n",
    "df['snap_CA'] = df['snap_CA'].astype(np.int8)\n",
    "df['snap_TX'] = df['snap_TX'].astype(np.int8)\n",
    "df['snap_WI'] = df['snap_WI'].astype(np.int8)\n",
    "\n",
    "df['expanding_mean_item'] = df['expanding_mean_item'].astype(np.float16)\n",
    "\n",
    "df['lag_28'] = df['lag_28'].astype(np.int16)\n",
    "df['lag_35'] = df['lag_35'].astype(np.int16)\n",
    "df['lag_42'] = df['lag_42'].astype(np.int16)\n",
    "df['lag_49'] = df['lag_49'].astype(np.int16)\n",
    "df['lag_56'] = df['lag_56'].astype(np.int16)\n",
    "df['lag_63'] = df['lag_63'].astype(np.int16)\n",
    "df['lag_70'] = df['lag_70'].astype(np.int16)\n",
    "df['lag_77'] = df['lag_77'].astype(np.int16)\n",
    "\n",
    "df['roll_mean_7'] = df['roll_mean_7'].astype(np.float16)\n",
    "df['roll_mean_14'] = df['roll_mean_14'].astype(np.float16)\n",
    "df['roll_std_7'] = df['roll_std_7'].astype(np.float16)\n",
    "df['roll_std_14'] = df['roll_std_14'].astype(np.float16)\n",
    "df['roll_mean_28'] = df['roll_mean_28'].astype(np.float16)\n",
    "df['roll_mean_49'] = df['roll_mean_49'].astype(np.float16)\n",
    "df['roll_std_28'] = df['roll_std_28'].astype(np.float16)\n",
    "df['roll_std_49'] = df['roll_std_49'].astype(np.float16)"
   ]
  },
  {
   "cell_type": "code",
   "execution_count": 16,
   "metadata": {
    "colab": {
     "base_uri": "https://localhost:8080/",
     "height": 456
    },
    "id": "5ZUp7mZdsEbp",
    "outputId": "7708b10c-0d74-4245-81f8-68be8ca0b230"
   },
   "outputs": [
    {
     "data": {
      "text/html": [
       "\n",
       "  <div id=\"df-44222cc9-e643-4b1f-8505-8c65b88293f2\">\n",
       "    <div class=\"colab-df-container\">\n",
       "      <div>\n",
       "<style scoped>\n",
       "    .dataframe tbody tr th:only-of-type {\n",
       "        vertical-align: middle;\n",
       "    }\n",
       "\n",
       "    .dataframe tbody tr th {\n",
       "        vertical-align: top;\n",
       "    }\n",
       "\n",
       "    .dataframe thead th {\n",
       "        text-align: right;\n",
       "    }\n",
       "</style>\n",
       "<table border=\"1\" class=\"dataframe\">\n",
       "  <thead>\n",
       "    <tr style=\"text-align: right;\">\n",
       "      <th></th>\n",
       "      <th>id</th>\n",
       "      <th>item_id</th>\n",
       "      <th>dept_id</th>\n",
       "      <th>cat_id</th>\n",
       "      <th>store_id</th>\n",
       "      <th>state_id</th>\n",
       "      <th>d</th>\n",
       "      <th>sale</th>\n",
       "      <th>year</th>\n",
       "      <th>event_name_1</th>\n",
       "      <th>...</th>\n",
       "      <th>roll_std_14</th>\n",
       "      <th>roll_mean_28</th>\n",
       "      <th>roll_std_28</th>\n",
       "      <th>roll_mean_49</th>\n",
       "      <th>roll_std_49</th>\n",
       "      <th>expanding_mean_item</th>\n",
       "      <th>mean_id_sold</th>\n",
       "      <th>std_id_sold</th>\n",
       "      <th>mean_id_price</th>\n",
       "      <th>std_id_price</th>\n",
       "    </tr>\n",
       "  </thead>\n",
       "  <tbody>\n",
       "    <tr>\n",
       "      <th>60034800</th>\n",
       "      <td>14279</td>\n",
       "      <td>1427</td>\n",
       "      <td>2</td>\n",
       "      <td>0</td>\n",
       "      <td>9</td>\n",
       "      <td>2</td>\n",
       "      <td>1969</td>\n",
       "      <td>0</td>\n",
       "      <td>6</td>\n",
       "      <td>17</td>\n",
       "      <td>...</td>\n",
       "      <td>1.392578</td>\n",
       "      <td>2.000000</td>\n",
       "      <td>1.540039</td>\n",
       "      <td>1.816406</td>\n",
       "      <td>1.481445</td>\n",
       "      <td>1.242188</td>\n",
       "      <td>1.224609</td>\n",
       "      <td>1.532227</td>\n",
       "      <td>2.281250</td>\n",
       "      <td>1.263672</td>\n",
       "    </tr>\n",
       "    <tr>\n",
       "      <th>60034801</th>\n",
       "      <td>14289</td>\n",
       "      <td>1428</td>\n",
       "      <td>2</td>\n",
       "      <td>0</td>\n",
       "      <td>9</td>\n",
       "      <td>2</td>\n",
       "      <td>1969</td>\n",
       "      <td>0</td>\n",
       "      <td>6</td>\n",
       "      <td>17</td>\n",
       "      <td>...</td>\n",
       "      <td>1.703125</td>\n",
       "      <td>2.000000</td>\n",
       "      <td>1.763672</td>\n",
       "      <td>2.164062</td>\n",
       "      <td>1.771484</td>\n",
       "      <td>2.714844</td>\n",
       "      <td>2.677734</td>\n",
       "      <td>3.369141</td>\n",
       "      <td>2.023438</td>\n",
       "      <td>0.082458</td>\n",
       "    </tr>\n",
       "    <tr>\n",
       "      <th>60034802</th>\n",
       "      <td>14299</td>\n",
       "      <td>1429</td>\n",
       "      <td>2</td>\n",
       "      <td>0</td>\n",
       "      <td>9</td>\n",
       "      <td>2</td>\n",
       "      <td>1969</td>\n",
       "      <td>0</td>\n",
       "      <td>6</td>\n",
       "      <td>17</td>\n",
       "      <td>...</td>\n",
       "      <td>1.610352</td>\n",
       "      <td>1.607422</td>\n",
       "      <td>1.256836</td>\n",
       "      <td>1.673828</td>\n",
       "      <td>1.313477</td>\n",
       "      <td>1.546875</td>\n",
       "      <td>1.524414</td>\n",
       "      <td>1.494141</td>\n",
       "      <td>1.966797</td>\n",
       "      <td>0.072205</td>\n",
       "    </tr>\n",
       "    <tr>\n",
       "      <th>60034803</th>\n",
       "      <td>14309</td>\n",
       "      <td>1430</td>\n",
       "      <td>2</td>\n",
       "      <td>0</td>\n",
       "      <td>9</td>\n",
       "      <td>2</td>\n",
       "      <td>1969</td>\n",
       "      <td>0</td>\n",
       "      <td>6</td>\n",
       "      <td>17</td>\n",
       "      <td>...</td>\n",
       "      <td>1.392578</td>\n",
       "      <td>1.071289</td>\n",
       "      <td>1.274414</td>\n",
       "      <td>1.061523</td>\n",
       "      <td>1.375977</td>\n",
       "      <td>0.650391</td>\n",
       "      <td>0.641113</td>\n",
       "      <td>1.109375</td>\n",
       "      <td>2.978516</td>\n",
       "      <td>2.441406</td>\n",
       "    </tr>\n",
       "    <tr>\n",
       "      <th>60034804</th>\n",
       "      <td>14319</td>\n",
       "      <td>1431</td>\n",
       "      <td>2</td>\n",
       "      <td>0</td>\n",
       "      <td>9</td>\n",
       "      <td>2</td>\n",
       "      <td>1969</td>\n",
       "      <td>0</td>\n",
       "      <td>6</td>\n",
       "      <td>17</td>\n",
       "      <td>...</td>\n",
       "      <td>1.492188</td>\n",
       "      <td>2.072266</td>\n",
       "      <td>1.513672</td>\n",
       "      <td>2.244141</td>\n",
       "      <td>1.677734</td>\n",
       "      <td>3.154297</td>\n",
       "      <td>3.109375</td>\n",
       "      <td>3.294922</td>\n",
       "      <td>3.837891</td>\n",
       "      <td>0.466309</td>\n",
       "    </tr>\n",
       "    <tr>\n",
       "      <th>60034805</th>\n",
       "      <td>14329</td>\n",
       "      <td>1432</td>\n",
       "      <td>2</td>\n",
       "      <td>0</td>\n",
       "      <td>9</td>\n",
       "      <td>2</td>\n",
       "      <td>1969</td>\n",
       "      <td>0</td>\n",
       "      <td>6</td>\n",
       "      <td>17</td>\n",
       "      <td>...</td>\n",
       "      <td>0.841797</td>\n",
       "      <td>0.643066</td>\n",
       "      <td>0.826172</td>\n",
       "      <td>0.489746</td>\n",
       "      <td>0.767090</td>\n",
       "      <td>0.535645</td>\n",
       "      <td>0.528320</td>\n",
       "      <td>1.166016</td>\n",
       "      <td>2.800781</td>\n",
       "      <td>0.171265</td>\n",
       "    </tr>\n",
       "    <tr>\n",
       "      <th>60034806</th>\n",
       "      <td>14339</td>\n",
       "      <td>1433</td>\n",
       "      <td>2</td>\n",
       "      <td>0</td>\n",
       "      <td>9</td>\n",
       "      <td>2</td>\n",
       "      <td>1969</td>\n",
       "      <td>0</td>\n",
       "      <td>6</td>\n",
       "      <td>17</td>\n",
       "      <td>...</td>\n",
       "      <td>0.363037</td>\n",
       "      <td>0.285645</td>\n",
       "      <td>0.534668</td>\n",
       "      <td>0.306152</td>\n",
       "      <td>0.547852</td>\n",
       "      <td>0.375000</td>\n",
       "      <td>0.369629</td>\n",
       "      <td>0.811523</td>\n",
       "      <td>2.507812</td>\n",
       "      <td>0.253174</td>\n",
       "    </tr>\n",
       "    <tr>\n",
       "      <th>60034807</th>\n",
       "      <td>14349</td>\n",
       "      <td>1434</td>\n",
       "      <td>2</td>\n",
       "      <td>0</td>\n",
       "      <td>9</td>\n",
       "      <td>2</td>\n",
       "      <td>1969</td>\n",
       "      <td>0</td>\n",
       "      <td>6</td>\n",
       "      <td>17</td>\n",
       "      <td>...</td>\n",
       "      <td>1.109375</td>\n",
       "      <td>0.785645</td>\n",
       "      <td>0.916992</td>\n",
       "      <td>0.897949</td>\n",
       "      <td>1.084961</td>\n",
       "      <td>0.893555</td>\n",
       "      <td>0.880859</td>\n",
       "      <td>1.374023</td>\n",
       "      <td>4.117188</td>\n",
       "      <td>0.188477</td>\n",
       "    </tr>\n",
       "    <tr>\n",
       "      <th>60034808</th>\n",
       "      <td>14359</td>\n",
       "      <td>1435</td>\n",
       "      <td>2</td>\n",
       "      <td>0</td>\n",
       "      <td>9</td>\n",
       "      <td>2</td>\n",
       "      <td>1969</td>\n",
       "      <td>0</td>\n",
       "      <td>6</td>\n",
       "      <td>17</td>\n",
       "      <td>...</td>\n",
       "      <td>1.650391</td>\n",
       "      <td>1.321289</td>\n",
       "      <td>1.306641</td>\n",
       "      <td>1.204102</td>\n",
       "      <td>1.189453</td>\n",
       "      <td>0.380615</td>\n",
       "      <td>0.375244</td>\n",
       "      <td>0.967773</td>\n",
       "      <td>0.670410</td>\n",
       "      <td>0.639648</td>\n",
       "    </tr>\n",
       "    <tr>\n",
       "      <th>60034809</th>\n",
       "      <td>14369</td>\n",
       "      <td>1436</td>\n",
       "      <td>2</td>\n",
       "      <td>0</td>\n",
       "      <td>9</td>\n",
       "      <td>2</td>\n",
       "      <td>1969</td>\n",
       "      <td>0</td>\n",
       "      <td>6</td>\n",
       "      <td>17</td>\n",
       "      <td>...</td>\n",
       "      <td>1.823242</td>\n",
       "      <td>1.250000</td>\n",
       "      <td>1.481445</td>\n",
       "      <td>0.877441</td>\n",
       "      <td>1.317383</td>\n",
       "      <td>0.702637</td>\n",
       "      <td>0.692871</td>\n",
       "      <td>1.500977</td>\n",
       "      <td>0.427734</td>\n",
       "      <td>0.494873</td>\n",
       "    </tr>\n",
       "  </tbody>\n",
       "</table>\n",
       "<p>10 rows × 40 columns</p>\n",
       "</div>\n",
       "      <button class=\"colab-df-convert\" onclick=\"convertToInteractive('df-44222cc9-e643-4b1f-8505-8c65b88293f2')\"\n",
       "              title=\"Convert this dataframe to an interactive table.\"\n",
       "              style=\"display:none;\">\n",
       "        \n",
       "  <svg xmlns=\"http://www.w3.org/2000/svg\" height=\"24px\"viewBox=\"0 0 24 24\"\n",
       "       width=\"24px\">\n",
       "    <path d=\"M0 0h24v24H0V0z\" fill=\"none\"/>\n",
       "    <path d=\"M18.56 5.44l.94 2.06.94-2.06 2.06-.94-2.06-.94-.94-2.06-.94 2.06-2.06.94zm-11 1L8.5 8.5l.94-2.06 2.06-.94-2.06-.94L8.5 2.5l-.94 2.06-2.06.94zm10 10l.94 2.06.94-2.06 2.06-.94-2.06-.94-.94-2.06-.94 2.06-2.06.94z\"/><path d=\"M17.41 7.96l-1.37-1.37c-.4-.4-.92-.59-1.43-.59-.52 0-1.04.2-1.43.59L10.3 9.45l-7.72 7.72c-.78.78-.78 2.05 0 2.83L4 21.41c.39.39.9.59 1.41.59.51 0 1.02-.2 1.41-.59l7.78-7.78 2.81-2.81c.8-.78.8-2.07 0-2.86zM5.41 20L4 18.59l7.72-7.72 1.47 1.35L5.41 20z\"/>\n",
       "  </svg>\n",
       "      </button>\n",
       "      \n",
       "  <style>\n",
       "    .colab-df-container {\n",
       "      display:flex;\n",
       "      flex-wrap:wrap;\n",
       "      gap: 12px;\n",
       "    }\n",
       "\n",
       "    .colab-df-convert {\n",
       "      background-color: #E8F0FE;\n",
       "      border: none;\n",
       "      border-radius: 50%;\n",
       "      cursor: pointer;\n",
       "      display: none;\n",
       "      fill: #1967D2;\n",
       "      height: 32px;\n",
       "      padding: 0 0 0 0;\n",
       "      width: 32px;\n",
       "    }\n",
       "\n",
       "    .colab-df-convert:hover {\n",
       "      background-color: #E2EBFA;\n",
       "      box-shadow: 0px 1px 2px rgba(60, 64, 67, 0.3), 0px 1px 3px 1px rgba(60, 64, 67, 0.15);\n",
       "      fill: #174EA6;\n",
       "    }\n",
       "\n",
       "    [theme=dark] .colab-df-convert {\n",
       "      background-color: #3B4455;\n",
       "      fill: #D2E3FC;\n",
       "    }\n",
       "\n",
       "    [theme=dark] .colab-df-convert:hover {\n",
       "      background-color: #434B5C;\n",
       "      box-shadow: 0px 1px 3px 1px rgba(0, 0, 0, 0.15);\n",
       "      filter: drop-shadow(0px 1px 2px rgba(0, 0, 0, 0.3));\n",
       "      fill: #FFFFFF;\n",
       "    }\n",
       "  </style>\n",
       "\n",
       "      <script>\n",
       "        const buttonEl =\n",
       "          document.querySelector('#df-44222cc9-e643-4b1f-8505-8c65b88293f2 button.colab-df-convert');\n",
       "        buttonEl.style.display =\n",
       "          google.colab.kernel.accessAllowed ? 'block' : 'none';\n",
       "\n",
       "        async function convertToInteractive(key) {\n",
       "          const element = document.querySelector('#df-44222cc9-e643-4b1f-8505-8c65b88293f2');\n",
       "          const dataTable =\n",
       "            await google.colab.kernel.invokeFunction('convertToInteractive',\n",
       "                                                     [key], {});\n",
       "          if (!dataTable) return;\n",
       "\n",
       "          const docLinkHtml = 'Like what you see? Visit the ' +\n",
       "            '<a target=\"_blank\" href=https://colab.research.google.com/notebooks/data_table.ipynb>data table notebook</a>'\n",
       "            + ' to learn more about interactive tables.';\n",
       "          element.innerHTML = '';\n",
       "          dataTable['output_type'] = 'display_data';\n",
       "          await google.colab.output.renderOutput(dataTable, element);\n",
       "          const docLink = document.createElement('div');\n",
       "          docLink.innerHTML = docLinkHtml;\n",
       "          element.appendChild(docLink);\n",
       "        }\n",
       "      </script>\n",
       "    </div>\n",
       "  </div>\n",
       "  "
      ],
      "text/plain": [
       "             id  item_id  dept_id  cat_id  store_id  state_id     d  sale  \\\n",
       "60034800  14279     1427        2       0         9         2  1969     0   \n",
       "60034801  14289     1428        2       0         9         2  1969     0   \n",
       "60034802  14299     1429        2       0         9         2  1969     0   \n",
       "60034803  14309     1430        2       0         9         2  1969     0   \n",
       "60034804  14319     1431        2       0         9         2  1969     0   \n",
       "60034805  14329     1432        2       0         9         2  1969     0   \n",
       "60034806  14339     1433        2       0         9         2  1969     0   \n",
       "60034807  14349     1434        2       0         9         2  1969     0   \n",
       "60034808  14359     1435        2       0         9         2  1969     0   \n",
       "60034809  14369     1436        2       0         9         2  1969     0   \n",
       "\n",
       "          year  event_name_1  ...  roll_std_14  roll_mean_28  roll_std_28  \\\n",
       "60034800     6            17  ...     1.392578      2.000000     1.540039   \n",
       "60034801     6            17  ...     1.703125      2.000000     1.763672   \n",
       "60034802     6            17  ...     1.610352      1.607422     1.256836   \n",
       "60034803     6            17  ...     1.392578      1.071289     1.274414   \n",
       "60034804     6            17  ...     1.492188      2.072266     1.513672   \n",
       "60034805     6            17  ...     0.841797      0.643066     0.826172   \n",
       "60034806     6            17  ...     0.363037      0.285645     0.534668   \n",
       "60034807     6            17  ...     1.109375      0.785645     0.916992   \n",
       "60034808     6            17  ...     1.650391      1.321289     1.306641   \n",
       "60034809     6            17  ...     1.823242      1.250000     1.481445   \n",
       "\n",
       "          roll_mean_49  roll_std_49  expanding_mean_item  mean_id_sold  \\\n",
       "60034800      1.816406     1.481445             1.242188      1.224609   \n",
       "60034801      2.164062     1.771484             2.714844      2.677734   \n",
       "60034802      1.673828     1.313477             1.546875      1.524414   \n",
       "60034803      1.061523     1.375977             0.650391      0.641113   \n",
       "60034804      2.244141     1.677734             3.154297      3.109375   \n",
       "60034805      0.489746     0.767090             0.535645      0.528320   \n",
       "60034806      0.306152     0.547852             0.375000      0.369629   \n",
       "60034807      0.897949     1.084961             0.893555      0.880859   \n",
       "60034808      1.204102     1.189453             0.380615      0.375244   \n",
       "60034809      0.877441     1.317383             0.702637      0.692871   \n",
       "\n",
       "          std_id_sold  mean_id_price  std_id_price  \n",
       "60034800     1.532227       2.281250      1.263672  \n",
       "60034801     3.369141       2.023438      0.082458  \n",
       "60034802     1.494141       1.966797      0.072205  \n",
       "60034803     1.109375       2.978516      2.441406  \n",
       "60034804     3.294922       3.837891      0.466309  \n",
       "60034805     1.166016       2.800781      0.171265  \n",
       "60034806     0.811523       2.507812      0.253174  \n",
       "60034807     1.374023       4.117188      0.188477  \n",
       "60034808     0.967773       0.670410      0.639648  \n",
       "60034809     1.500977       0.427734      0.494873  \n",
       "\n",
       "[10 rows x 40 columns]"
      ]
     },
     "execution_count": 16,
     "metadata": {},
     "output_type": "execute_result"
    }
   ],
   "source": [
    "df[df['d']>1941].tail(10)"
   ]
  },
  {
   "cell_type": "code",
   "execution_count": 23,
   "metadata": {
    "id": "hDp5M3yhfj6X"
   },
   "outputs": [],
   "source": [
    "df.to_csv('/content/drive/MyDrive/CS/final_fe2.csv',index=False)"
   ]
  },
  {
   "cell_type": "code",
   "execution_count": 17,
   "metadata": {
    "colab": {
     "base_uri": "https://localhost:8080/"
    },
    "id": "hGu-4rc5g-CR",
    "outputId": "bb42c7d1-bf14-42bc-c829-0cfe1479a3d0"
   },
   "outputs": [
    {
     "name": "stdout",
     "output_type": "stream",
     "text": [
      "<class 'pandas.core.frame.DataFrame'>\n",
      "Int64Index: 57687080 entries, 2347730 to 60034809\n",
      "Data columns (total 40 columns):\n",
      " #   Column               Dtype  \n",
      "---  ------               -----  \n",
      " 0   id                   int16  \n",
      " 1   item_id              int16  \n",
      " 2   dept_id              int16  \n",
      " 3   cat_id               int16  \n",
      " 4   store_id             int16  \n",
      " 5   state_id             int16  \n",
      " 6   d                    int16  \n",
      " 7   sale                 int16  \n",
      " 8   year                 int8   \n",
      " 9   event_name_1         int8   \n",
      " 10  event_type_1         int8   \n",
      " 11  event_name_2         int8   \n",
      " 12  event_type_2         int8   \n",
      " 13  snap_CA              int8   \n",
      " 14  snap_TX              int8   \n",
      " 15  snap_WI              int8   \n",
      " 16  day                  int8   \n",
      " 17  quarter              int8   \n",
      " 18  sell_price           float32\n",
      " 19  lag_28               int16  \n",
      " 20  lag_35               int16  \n",
      " 21  lag_42               int16  \n",
      " 22  lag_49               int16  \n",
      " 23  lag_56               int16  \n",
      " 24  lag_63               int16  \n",
      " 25  lag_70               int16  \n",
      " 26  lag_77               int16  \n",
      " 27  roll_mean_7          float16\n",
      " 28  roll_std_7           float16\n",
      " 29  roll_mean_14         float16\n",
      " 30  roll_std_14          float16\n",
      " 31  roll_mean_28         float16\n",
      " 32  roll_std_28          float16\n",
      " 33  roll_mean_49         float16\n",
      " 34  roll_std_49          float16\n",
      " 35  expanding_mean_item  float16\n",
      " 36  mean_id_sold         float16\n",
      " 37  std_id_sold          float16\n",
      " 38  mean_id_price        float16\n",
      " 39  std_id_price         float16\n",
      "dtypes: float16(13), float32(1), int16(16), int8(10)\n",
      "memory usage: 4.3 GB\n"
     ]
    }
   ],
   "source": [
    "df.info()"
   ]
  },
  {
   "cell_type": "code",
   "execution_count": 18,
   "metadata": {
    "colab": {
     "base_uri": "https://localhost:8080/"
    },
    "id": "zfk4imwLg9_b",
    "outputId": "bf035521-f06b-4bec-e24b-1bb9235f828b"
   },
   "outputs": [
    {
     "data": {
      "text/plain": [
       "id                     0\n",
       "item_id                0\n",
       "dept_id                0\n",
       "cat_id                 0\n",
       "store_id               0\n",
       "state_id               0\n",
       "d                      0\n",
       "sale                   0\n",
       "year                   0\n",
       "event_name_1           0\n",
       "event_type_1           0\n",
       "event_name_2           0\n",
       "event_type_2           0\n",
       "snap_CA                0\n",
       "snap_TX                0\n",
       "snap_WI                0\n",
       "day                    0\n",
       "quarter                0\n",
       "sell_price             0\n",
       "lag_28                 0\n",
       "lag_35                 0\n",
       "lag_42                 0\n",
       "lag_49                 0\n",
       "lag_56                 0\n",
       "lag_63                 0\n",
       "lag_70                 0\n",
       "lag_77                 0\n",
       "roll_mean_7            0\n",
       "roll_std_7             0\n",
       "roll_mean_14           0\n",
       "roll_std_14            0\n",
       "roll_mean_28           0\n",
       "roll_std_28            0\n",
       "roll_mean_49           0\n",
       "roll_std_49            0\n",
       "expanding_mean_item    0\n",
       "mean_id_sold           0\n",
       "std_id_sold            0\n",
       "mean_id_price          0\n",
       "std_id_price           0\n",
       "dtype: int64"
      ]
     },
     "execution_count": 18,
     "metadata": {},
     "output_type": "execute_result"
    }
   ],
   "source": [
    "df.isnull().sum() #checking NaN values again"
   ]
  },
  {
   "cell_type": "code",
   "execution_count": null,
   "metadata": {
    "id": "AYfXSPIefj38"
   },
   "outputs": [],
   "source": []
  },
  {
   "cell_type": "code",
   "execution_count": null,
   "metadata": {
    "id": "CP6zuevWfj1g"
   },
   "outputs": [],
   "source": []
  },
  {
   "cell_type": "code",
   "execution_count": null,
   "metadata": {
    "id": "UWKR4LNvfjzH"
   },
   "outputs": [],
   "source": []
  },
  {
   "cell_type": "code",
   "execution_count": null,
   "metadata": {
    "id": "pafL7Li0jyXW"
   },
   "outputs": [],
   "source": []
  }
 ],
 "metadata": {
  "accelerator": "TPU",
  "colab": {
   "collapsed_sections": [],
   "machine_shape": "hm",
   "name": "Copy of HACKANONS COLAB 25GB RAM.ipynb",
   "provenance": []
  },
  "kernelspec": {
   "display_name": "Python 3 (ipykernel)",
   "language": "python",
   "name": "python3"
  },
  "language_info": {
   "codemirror_mode": {
    "name": "ipython",
    "version": 3
   },
   "file_extension": ".py",
   "mimetype": "text/x-python",
   "name": "python",
   "nbconvert_exporter": "python",
   "pygments_lexer": "ipython3",
   "version": "3.8.12"
  }
 },
 "nbformat": 4,
 "nbformat_minor": 1
}
